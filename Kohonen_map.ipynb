{
 "cells": [
  {
   "cell_type": "code",
   "execution_count": 71,
   "metadata": {},
   "outputs": [],
   "source": [
    "import random\n",
    "import numpy as np\n",
    "import math\n",
    "import matplotlib.pyplot as plt\n",
    "from IPython.display import clear_output\n",
    "import cv2"
   ]
  },
  {
   "cell_type": "code",
   "execution_count": 103,
   "metadata": {},
   "outputs": [],
   "source": [
    "mapk = np.random.randint(0, 1, (20, 20, 3))\n"
   ]
  },
  {
   "cell_type": "code",
   "execution_count": 104,
   "metadata": {},
   "outputs": [],
   "source": [
    "def Euclid(vector1, vector2):\n",
    "    result = 0\n",
    "    for i in range(len(vector1)):\n",
    "        result = result + (vector1[i] - vector2[i])*(vector1[i] - vector2[i])\n",
    "    return math.sqrt(result)"
   ]
  },
  {
   "cell_type": "code",
   "execution_count": 105,
   "metadata": {},
   "outputs": [],
   "source": [
    "def search_best_match(vector_, mapk):\n",
    "    Euclid1 = Euclid(vector_, mapk[0][0])\n",
    "    x = 0\n",
    "    y = 0\n",
    "    shp = mapk.shape\n",
    "    for i in range(shp[0]):\n",
    "        for j in range(shp[1]):\n",
    "            Euclid2 = Euclid(vector_, mapk[i][j])\n",
    "            if Euclid2 < Euclid1:\n",
    "                Euclid1 = Euclid2\n",
    "                x = i\n",
    "                y = j\n",
    "    return x, y\n"
   ]
  },
  {
   "cell_type": "code",
   "execution_count": 106,
   "metadata": {},
   "outputs": [],
   "source": [
    "def train(train_vector, epoch, max_epoch ,mapk):\n",
    "    best_match_unit = search_best_match(train_vector, mapk)\n",
    "    L0 = 0.8\n",
    "    shp = mapk.shape\n",
    "\n",
    "    sigma0 = max(shp[0], shp[1])\n",
    "\n",
    "    lambda_ = max_epoch/math.log(sigma0)\n",
    "\n",
    "    sigma = sigma0 * math.exp(-epoch/lambda_)\n",
    "    \n",
    "    L = L0 * math.exp(-epoch/lambda_)\n",
    "    for i in range(shp[0]):\n",
    "        for j in range(shp[1]):\n",
    "            d = Euclid(best_match_unit, (i,j))\n",
    "            if d < sigma:\n",
    "                Theta = math.exp(-d*d/(2*sigma*sigma))\n",
    "                \n",
    "                \n",
    "                mapk[i][j] = mapk[i][j] + ((train_vector - mapk[i][j]).dot(Theta*L))"
   ]
  },
  {
   "cell_type": "code",
   "execution_count": 108,
   "metadata": {},
   "outputs": [
    {
     "data": {
      "image/png": "[encoded data removed]",
      "text/plain": [
       "<Figure size 432x288 with 1 Axes>"
      ]
     },
     "metadata": {
      "needs_background": "light"
     },
     "output_type": "display_data"
    },
    {
     "name": "stdout",
     "output_type": "stream",
     "text": [
      "[[148 136 240]\n",
      " [ 63  24  94]\n",
      " [112 129  61]\n",
      " ...\n",
      " [181 137  61]\n",
      " [  8 253 201]\n",
      " [ 95 237  46]]\n"
     ]
    },
    {
     "data": {
      "text/plain": [
       "(900, 3)"
      ]
     },
     "execution_count": 108,
     "metadata": {},
     "output_type": "execute_result"
    }
   ],
   "source": [
    "learn_data = np.random.randint(0, 255, (30, 30, 3))\n",
    "plt.imshow(learn_data)\n",
    "plt.show()\n",
    "\n",
    "learn_data = np.reshape(learn_data,(900,3))\n",
    "print(learn_data)\n",
    "learn_data.shape"
   ]
  },
  {
   "cell_type": "code",
   "execution_count": null,
   "metadata": {},
   "outputs": [],
   "source": []
  },
  {
   "cell_type": "code",
   "execution_count": 109,
   "metadata": {},
   "outputs": [
    {
     "name": "stdout",
     "output_type": "stream",
     "text": [
      "Epoch:  99\n"
     ]
    }
   ],
   "source": [
    "epoch = 100\n",
    "for i in range(epoch):\n",
    "    clear_output(wait=True)\n",
    "    print(\"Epoch: \", i)\n",
    "    for j in range(learn_data.shape[0]):\n",
    "        train(learn_data[j], i+1, epoch, mapk)\n",
    "        "
   ]
  },
  {
   "cell_type": "code",
   "execution_count": 110,
   "metadata": {},
   "outputs": [
    {
     "data": {
      "image/png": "[encoded data removed]",
      "text/plain": [
       "<Figure size 432x288 with 1 Axes>"
      ]
     },
     "metadata": {
      "needs_background": "light"
     },
     "output_type": "display_data"
    }
   ],
   "source": [
    "plt.imshow(mapk)\n",
    "plt.show()"
   ]
  },
  {
   "cell_type": "code",
   "execution_count": null,
   "metadata": {},
   "outputs": [],
   "source": []
  }
 ],
 "metadata": {
  "kernelspec": {
   "display_name": "Python 3",
   "language": "python",
   "name": "python3"
  },
  "language_info": {
   "codemirror_mode": {
    "name": "ipython",
    "version": 3
   },
   "file_extension": ".py",
   "mimetype": "text/x-python",
   "name": "python",
   "nbconvert_exporter": "python",
   "pygments_lexer": "ipython3",
   "version": "3.7.7"
  },
  "toc": {
   "base_numbering": 1,
   "nav_menu": {},
   "number_sections": false,
   "sideBar": false,
   "skip_h1_title": false,
   "title_cell": "Table of Contents",
   "title_sidebar": "Contents",
   "toc_cell": false,
   "toc_position": {},
   "toc_section_display": false,
   "toc_window_display": false
  }
 },
 "nbformat": 4,
 "nbformat_minor": 2
}
